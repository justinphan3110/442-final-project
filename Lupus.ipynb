{
  "nbformat": 4,
  "nbformat_minor": 0,
  "metadata": {
    "kernelspec": {
      "display_name": "Python 3",
      "language": "python",
      "name": "python3"
    },
    "language_info": {
      "codemirror_mode": {
        "name": "ipython",
        "version": 3
      },
      "file_extension": ".py",
      "mimetype": "text/x-python",
      "name": "python",
      "nbconvert_exporter": "python",
      "pygments_lexer": "ipython3",
      "version": "3.8.5"
    },
    "colab": {
      "name": "Lupus.ipynb",
      "provenance": []
    }
  },
  "cells": [
    {
      "cell_type": "code",
      "metadata": {
        "id": "zeg1rvH17206"
      },
      "source": [
        "from google.colab import drive\n",
        "drive.mount('/content/gdrive', force_remount=True)\n"
      ],
      "execution_count": null,
      "outputs": []
    },
    {
      "cell_type": "code",
      "metadata": {
        "id": "NMhP22IT796N"
      },
      "source": [
        "!cp '/content/gdrive/MyDrive/pop_lupus.pkl.zip' ."
      ],
      "execution_count": null,
      "outputs": []
    },
    {
      "cell_type": "code",
      "metadata": {
        "id": "Vim66dLO9AhO"
      },
      "source": [
        "import pickle\n",
        "from sklearn.linear_model import LogisticRegression\n",
        "from sklearn.model_selection import StratifiedKFold\n",
        "from sklearn.metrics import accuracy_score\n",
        "import numpy as np\n",
        "from sklearn.cluster import KMeans"
      ],
      "execution_count": null,
      "outputs": []
    },
    {
      "cell_type": "code",
      "metadata": {
        "id": "cHvau-yu9AhV",
        "outputId": "39e77061-a08a-4b39-a824-17fc85f295d4"
      },
      "source": [
        "data = pickle.load(open('pop_lupus.pkl','rb'))\n",
        "print(data.columns)"
      ],
      "execution_count": null,
      "outputs": [
        {
          "output_type": "stream",
          "text": [
            "Index(['CD45', 'CD196_CCR6', 'CD181_CXCR1', 'HLA_DR', 'CD15', 'CD31_PECAM1',\n",
            "       'CD8a', 'CD182_CXCR2', 'IgA', 'CD66ace', 'CD63', 'CD14', 'CD66b',\n",
            "       'CD62L_Lselectin', 'CD3', 'CD27', 'CD86', 'CD10', 'CD197_CCR7', 'CD28',\n",
            "       'CD11c', 'CD33', 'CD161', 'CD45RO', 'CD24', 'CD38', 'CD278_ICOS',\n",
            "       'CD32', 'CD152_CTLA4', 'IgM', 'CD184_CXCR4', 'CD279_PD1', 'CD56',\n",
            "       'CD16', 'Label_0.9', 'score', ' sample type', 'clusters'],\n",
            "      dtype='object')\n"
          ],
          "name": "stdout"
        }
      ]
    },
    {
      "cell_type": "code",
      "metadata": {
        "id": "LbJiYeWj9AhW"
      },
      "source": [
        "populations = {}\n",
        "\n",
        "for i in set(list(data['clusters'].values)):\n",
        "\n",
        "    cluster = data.iloc[np.where(data['clusters'].values == i)[0]]\n",
        "    cluster = cluster.reset_index()\n",
        "    cluster = cluster.drop(['index'],1)\n",
        "\n",
        "    if list(cluster['score'].values).count(0) > list(cluster['score'].values).count(1):\n",
        "        diff = list(cluster['score'].values).count(0)-list(cluster['score'].values).count(1)\n",
        "        cluster = cluster.drop(list(np.random.choice(np.where(cluster['score'] == 0)[0],diff,replace=False)),0)\n",
        "    else:\n",
        "        diff = list(cluster['score'].values).count(1)-list(cluster['score'].values).count(0)\n",
        "        cluster = cluster.drop(list(np.random.choice(np.where(cluster['score'] == 1)[0],diff,replace=False)),0)\n",
        "    ##balanced\n",
        "    populations[i] = cluster \n",
        "        \n",
        "        \n"
      ],
      "execution_count": null,
      "outputs": []
    },
    {
      "cell_type": "code",
      "metadata": {
        "id": "wgvmQAlt9AhX",
        "outputId": "041cadf7-3e85-42a6-8328-f1d8cc760dba"
      },
      "source": [
        "import pandas as pd\n",
        "import copy as cp\n",
        "cv = StratifiedKFold(n_splits = 5,shuffle=True)\n",
        "\n",
        "allvals = []\n",
        "for key,df in populations.items():\n",
        "\n",
        "    binary_labels = df['score'].values\n",
        "    marker_data = df.drop(['Label_0.9', 'score', ' sample type', 'clusters'],1)\n",
        "    \n",
        "\n",
        "    for col in marker_data.columns:\n",
        "        if np.mean(marker_data[col].values) < 0.5:\n",
        "            marker_data = marker_data.drop([col],1)\n",
        "  \n",
        "\n",
        "    if len(marker_data.columns) == 0:\n",
        "        continue\n",
        "    cols = marker_data.columns\n",
        "    save_df = cp.deepcopy(marker_data)\n",
        "    marker_data = marker_data.values\n",
        "    result = 0\n",
        "    all_coef = np.zeros(len(cols))\n",
        "    for i, (train, test) in enumerate(cv.split(marker_data, binary_labels)):\n",
        "        X,y = marker_data[train],binary_labels[train]\n",
        "        X_test,y_test = marker_data[test],binary_labels[test]\n",
        "        model = LogisticRegression().fit(X,y)\n",
        "        preds = model.predict(X_test)\n",
        "        result += accuracy_score(np.round(preds),y_test)\n",
        "        all_coef+= np.exp(model.coef_[0])\n",
        "        \n",
        "\n",
        "    if result/5 > 0.74:\n",
        "        odds = all_coef/5\n",
        "        df2 = pd.DataFrame(odds, \n",
        "             cols, \n",
        "             columns=['coef'])\\\n",
        "            .sort_values(by='coef', ascending=False)\n",
        "        print(df2)\n",
        "        break\n",
        "\n",
        "\n",
        "            \n",
        "train_d = save_df[['CD63']].values.reshape(-1,1)\n",
        "for i, (train, test) in enumerate(cv.split(train_d, binary_labels)):\n",
        "                X,y = train_d[train],binary_labels[train]\n",
        "                X_test,y_test = train_d[test],binary_labels[test]\n",
        "                model = LogisticRegression().fit(X,y)\n",
        "                preds = model.predict(X_test)\n",
        "                result += accuracy_score(np.round(preds),y_test)\n",
        "                print(np.exp(model.coef_[0]))\n",
        "\n",
        " "
      ],
      "execution_count": null,
      "outputs": [
        {
          "output_type": "stream",
          "text": [
            "                 coef\n",
            "CD11c        2.655698\n",
            "CD86         2.389356\n",
            "CD38         2.007404\n",
            "CD32         1.452904\n",
            "CD31_PECAM1  1.334612\n",
            "CD14         1.323004\n",
            "CD8a         1.041301\n",
            "HLA_DR       0.844392\n",
            "CD184_CXCR4  0.671431\n",
            "CD161        0.578626\n",
            "CD45         0.487697\n",
            "CD63         0.485732\n",
            "CD33         0.382302\n",
            "[0.58451206]\n",
            "[0.59367501]\n",
            "[0.5993601]\n",
            "[0.58660899]\n",
            "[0.59562822]\n"
          ],
          "name": "stdout"
        }
      ]
    },
    {
      "cell_type": "code",
      "metadata": {
        "id": "739w1fNuV7bx"
      },
      "source": [
        ""
      ],
      "execution_count": null,
      "outputs": []
    },
    {
      "cell_type": "code",
      "metadata": {
        "id": "qwTSEiBm9AhY",
        "outputId": "54801748-78c3-4d7b-8b3f-45a96c74b7ec"
      },
      "source": [
        "data66 = data.iloc[np.where(data['CD66b'].values > 0.75)]\n",
        "data66 = data66.reset_index()\n",
        "data66 = data66.drop(['index'],1)\n",
        "    \n",
        "if list(data66[' sample type'].values).count('NDN') > list(data66[' sample type'].values).count('PBMC'):\n",
        "        diff = list(data66[' sample type'].values).count('NDN') - list(data66[' sample type'].values).count('PBMC')\n",
        "        data66 = data66.drop(list(np.random.choice(np.where(data66[' sample type'] == 'NDN')[0],diff,replace=False)),0)\n",
        "else:\n",
        "        diff = list(data66[' sample type'].values).count('PBMC') - list(data66[' sample type'].values).count('NDN')\n",
        "        data66 = data66.drop(list(np.random.choice(np.where(data66[' sample type'] == 'PBMC')[0],diff,replace=False)),0)\n",
        "    ##balanced\n",
        "binary = data66[' sample type'].values\n",
        "\n",
        "print(len(data66))\n",
        "\n",
        "binary_labels = []\n",
        "for i in binary:\n",
        "    if i == 'NDN':\n",
        "        binary_labels.append(0)\n",
        "    else:\n",
        "        binary_labels.append(1)\n",
        "        \n",
        "binary_labels = np.asarray(binary_labels)\n",
        "\n",
        "marker_data = data66.drop(['Label_0.9', 'score', ' sample type', 'clusters'],1).values\n",
        "\n",
        "cv = StratifiedKFold(n_splits = 5,shuffle=True)\n",
        "result = 0\n",
        "for i, (train, test) in enumerate(cv.split(marker_data,binary_labels)):\n",
        "        X,y = marker_data[train],binary_labels[train]\n",
        "        X_test,y_test = marker_data[test],binary_labels[test]\n",
        "        model = LogisticRegression().fit(X,y)\n",
        "        preds = model.predict(X_test)\n",
        "        result += accuracy_score(np.round(preds),y_test)\n",
        "\n",
        "print(result/5)\n",
        "if result/5 > 0.74:\n",
        "            odds = np.exp(model.coef_[0])\n",
        "            df2 = pd.DataFrame(odds, \n",
        "            data66.drop(['Label_0.9', 'score', ' sample type', 'clusters'],1).columns, \n",
        "             columns=['coef'])\\\n",
        "            .sort_values(by='coef', ascending=False)\n",
        "            print(df2)\n",
        "\n",
        "  \n",
        "\n",
        "marker_data = data66.drop(['Label_0.9', 'score', ' sample type', 'clusters'],1)['CD66b'].values.reshape(-1,1)\n",
        "\n",
        "cv = StratifiedKFold(n_splits = 5,shuffle=True)\n",
        "result = 0\n",
        "for i, (train, test) in enumerate(cv.split(marker_data,binary_labels)):\n",
        "        X,y = marker_data[train],binary_labels[train]\n",
        "        X_test,y_test = marker_data[test],binary_labels[test]\n",
        "        model = LogisticRegression().fit(X,y)\n",
        "        preds = model.predict(X_test)\n",
        "        result += accuracy_score(np.round(preds),y_test)\n",
        "print(model.coef_[0])\n"
      ],
      "execution_count": null,
      "outputs": [
        {
          "output_type": "stream",
          "text": [
            "6311090\n",
            "0.7441590913772422\n",
            "                     coef\n",
            "CD66b            7.433718\n",
            "CD182_CXCR2      1.586399\n",
            "CD184_CXCR4      1.146967\n",
            "CD10             1.139034\n",
            "CD181_CXCR1      1.106686\n",
            "CD62L_Lselectin  1.092124\n",
            "IgA              1.073194\n",
            "CD24             1.057901\n",
            "CD45RO           1.036478\n",
            "CD16             1.034144\n",
            "CD152_CTLA4      1.023113\n",
            "CD86             1.022427\n",
            "CD14             0.993772\n",
            "CD27             0.973413\n",
            "CD161            0.967858\n",
            "CD279_PD1        0.967348\n",
            "CD32             0.964649\n",
            "CD28             0.956148\n",
            "IgM              0.945571\n",
            "CD38             0.939535\n",
            "CD8a             0.920324\n",
            "CD15             0.920028\n",
            "CD278_ICOS       0.913114\n",
            "HLA_DR           0.897165\n",
            "CD56             0.892083\n",
            "CD197_CCR7       0.865917\n",
            "CD196_CCR6       0.849299\n",
            "CD3              0.820691\n",
            "CD31_PECAM1      0.819729\n",
            "CD66ace          0.806422\n",
            "CD45             0.769111\n",
            "CD63             0.756692\n",
            "CD33             0.714597\n",
            "CD11c            0.696736\n",
            "[1.69354301]\n"
          ],
          "name": "stdout"
        }
      ]
    },
    {
      "cell_type": "code",
      "metadata": {
        "id": "5ZMgTefv9AhZ"
      },
      "source": [
        ""
      ],
      "execution_count": null,
      "outputs": []
    },
    {
      "cell_type": "code",
      "metadata": {
        "id": "Oue8D1wN9Aha"
      },
      "source": [
        ""
      ],
      "execution_count": null,
      "outputs": []
    }
  ]
}